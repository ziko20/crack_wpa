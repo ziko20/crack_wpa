{
  "cells": [
    {
      "cell_type": "code",
      "execution_count": null,
      "metadata": {},
      "outputs": [],
      "source": [
        "# 0\n",
        "# wordlists ====>>\n",
        "wordlist_1 = True\n",
        "wordlist_2 = False\n",
        "wordlist_3 = False\n",
        "wordlist_4 = False\n",
        "\n",
        "if (wordlist_1 == False) and (wordlist_2 == False) and (wordlist_3 == False) and (wordlist_4 == False) :\n",
        "    print('please choose a wordlist')\n",
        "    exit() "
      ]
    },
    {
      "cell_type": "code",
      "execution_count": null,
      "metadata": {
        "colab": {},
        "colab_type": "code",
        "id": "nkcgYemCZA2n"
      },
      "outputs": [],
      "source": [
        "# 1\n",
        "#Install of hashcat\n",
        "print(\"Installation of hashcat...\")\n",
        "!apt install cmake build-essential -y\n",
        "!apt install checkinstall git -y\n",
        "!git clone https://github.com/hashcat/hashcat.git && cd hashcat && make -j 8 && make install"
      ]
    },
    {
      "cell_type": "code",
      "execution_count": null,
      "metadata": {},
      "outputs": [],
      "source": [
        "# 1\n",
        "# creating new directory to store cap files\n",
        "!mkdir cap_files\n",
        "# uploading cap\n",
        "from google.colab import files\n",
        "\n",
        "uploaded = files.upload()\n",
        "\n",
        "for f_name in uploaded.keys():\n",
        "  print('User uploaded file \"{name}\" with length {length} bytes'.format(name=f_name, length=len(uploaded[f_name])))\n",
        "\n",
        "!mv {f_name} \"/content/cap_files/{f_name}\""
      ]
    },
    {
      "cell_type": "code",
      "execution_count": null,
      "metadata": {
        "colab": {},
        "colab_type": "code",
        "id": "bG3hglwpZCB_"
      },
      "outputs": [],
      "source": [
        "# 2\n",
        "#Wordlists\n",
        "print(\"Installation of default wordlist...\")\n",
        "!mkdir wordlists\n",
        "if wordlist_1:\n",
        "    !printf \"[+] Downloading wordlists...\\n\"\n",
        "    !cd wordlists && wget https://download.weakpass.com/wordlists/90/rockyou.txt.gz\n",
        "    !printf \"[+] Wordlists downloaded !\\n[+] Extraction...\\n\"\n",
        "    !cd wordlists && gunzip rockyou.txt.gz\n",
        "    !printf \"[+] Finished !\\n[+] Location : $(pwd)/$wordlists_dir/$(ls wordlists | grep rockyou)\"\n",
        "if wordlist_2:\n",
        "    !printf \"[+] Downloading wordlists...\\n\"\n",
        "    !cd wordlists && wget https://download.weakpass.com/wordlists/1932/hashkiller-dict.txt.7z\n",
        "    !printf \"[+] Wordlists downloaded !\\n[+] Extraction...\\n\"\n",
        "    !cd wordlists && 7z e hashkiller-dict.txt.7z\n",
        "    !printf \"[+] Finished !\\n[+] Location : $(pwd)/$wordlists_dir/$(ls wordlists | grep hashkiller-dict)\"\n",
        "if wordlist_3:\n",
        "    !printf \"[+] Downloading wordlists...\\n\"\n",
        "    !cd wordlists && wget https://download.weakpass.com/wordlists/1939/kaonashi.txt.7z\n",
        "    !printf \"[+] Wordlists downloaded !\\n[+] Extraction...\\n\"\n",
        "    !cd wordlists && 7z e kaonashi.txt.7z\n",
        "    !printf \"[+] Finished !\\n[+] Location : $(pwd)/$wordlists_dir/$(ls wordlists | grep kaonashi)\"\n",
        "if wordlist_4:\n",
        "    !printf \"[+] Downloading wordlists...\\n\"\n",
        "    !cd wordlists && wget https://download.weakpass.com/wordlists/1928/cyclone_hk.txt.7z\n",
        "    !printf \"[+] Wordlists downloaded !\\n[+] Extraction...\\n\"\n",
        "    !cd wordlists && 7z e cyclone_hk.txt.7z\n",
        "    !printf \"[+] Finished !\\n[+] Location : $(pwd)/$wordlists_dir/$(ls wordlists | grep cyclone_hk)\""
      ]
    },
    {
      "cell_type": "code",
      "execution_count": null,
      "metadata": {},
      "outputs": [],
      "source": [
        "def check_if_cracked(command): \n",
        "  output = subprocess.check_output([command + \" --show\"], shell=True).decode()\n",
        "  if len(output) == 0:\n",
        "    return False\n",
        "  else:\n",
        "    return True"
      ]
    },
    {
      "cell_type": "code",
      "execution_count": null,
      "metadata": {
        "colab": {},
        "colab_type": "code",
        "id": "erA610RJM1GK"
      },
      "outputs": [],
      "source": [
        "#Setting up shells\n",
        "from termcolor import colored\n",
        "import os\n",
        "\n",
        "os.system(\"touch /tmp/cmd && touch /tmp/status\")\n",
        "\n",
        "template_cmd = \"echo -n $(whoami)[$(hostname)[$(pwd) &> /tmp/status\"\n",
        "os.system(\"bash -c '{}'\".format(template_cmd))\n",
        "output = {\"cmd\": \"\", \"status\": \"\"}\n",
        "with open('/tmp/cmd', 'r') as f:\n",
        "    output[\"cmd\"] = f.read()\n",
        "with open('/tmp/status', 'r') as f:\n",
        "    output[\"status\"] = f.read()\n",
        "prefixes = output[\"status\"].split(\"[\")\n",
        "path = prefixes[2].replace('\\n', '')\n",
        "prefix = colored(prefixes[0] + \"@\" + prefixes[1], \"red\") + \":\" + colored(path, \"cyan\") + \"$ \"\n",
        "print(\"\")\n",
        "\n",
        "hash = input('+ Enter your hash :')\n",
        "# while 1:\n",
        "list__e = os.listdir('//content//wordlists')\n",
        "for i in range(len(list__e)):\n",
        "    list_ = list__e[i]\n",
        "    print(f'test list ===>> {list_}')\n",
        "    # Put your code here : exemple ====>> [!./hashcat -m 22000 -a 0 \"hash\" ../wordlists/name.txt]\n",
        "    print(prefix, end='')\n",
        "    command = \"cd hashcat && ./hashcat -m 22000 -a 0 \"+hash+\" ../wordlists/\"+list_+\"\"    \n",
        "    template_cmd = \"cd {} && \".format(path) + \"\" + command + \" &> /tmp/cmd ; echo $(whoami)[$(hostname)[$(pwd) &> /tmp/status\"\n",
        "    os.system(\"bash -c '{}'\".format(template_cmd))\n",
        "    \n",
        "    subprocess.call([command],shell=True)\n",
        "    if check_if_cracked(command):\n",
        "        is_cracked = True\n",
        "    if is_cracked:\n",
        "        print(\"Password is cracked!!\")\n",
        "        cracked_password = subprocess.check_output([command + \" --show\"], shell=True).decode()\n",
        "        cracked_password = cracked_password.split(':')[-1]\n",
        "        print(f\"\\n+ Password :             [{cracked_password}]\")\n",
        "        print(f\"wordlist used : {list_}\")\n",
        "        break\n",
        "    else:\n",
        "        continue\n",
        "if is_cracked == False:\n",
        "    print(\"Password was not found in wordlists\")\n",
        "else:\n",
        "    pass\n",
        "    \n",
        "# output = {\"cmd\": \"\", \"status\": \"\"}\n",
        "# with open('/tmp/cmd', 'r') as f:\n",
        "#     output[\"cmd\"] = f.read()\n",
        "# with open('/tmp/status', 'r') as f:\n",
        "#     output[\"status\"] = f.read()\n",
        "# prefixes = output[\"status\"].split(\"[\")\n",
        "# path = prefixes[2].replace('\\n', '')\n",
        "# prefix = colored(prefixes[0] + \"@\" + prefixes[1], \"red\") + \":\" + colored(path, \"cyan\") + \"$ \"\n",
        "# print(output[\"cmd\"])\n"
      ]
    },
    {
      "cell_type": "code",
      "execution_count": null,
      "metadata": {},
      "outputs": [],
      "source": [
        "# cap_file = f\"/content/cap_files/{f_name} \"\n",
        "# file = open(cap_file, \"r\")\n",
        "# hash_ = file.readline()\n",
        "# file.close()\n",
        "# list__e = os.listdir('//content//wordlists')\n",
        "# for i in range(len(list__e)):\n",
        "#     list_ = list__e[i]\n",
        "#     !cd hashcat\n",
        "#     command = \"./hashcat -m 22000 -a 0 \"+hash_+\" ../wordlists/\"+list_+\"\" \n",
        "#     subprocess.call([command],shell=True)\n",
        "#     if check_if_cracked(command):\n",
        "#         is_cracked = True\n",
        "#     if is_cracked:\n",
        "#         print(\"Password is cracked!!\")\n",
        "#         cracked_password = subprocess.check_output([command + \" --show\"], shell=True).decode()\n",
        "#         cracked_password = cracked_password.split(':')[-1]\n",
        "#         print(f\"\\n+ Password :             [{cracked_password}]\")\n",
        "#         print(f\"wordlist used : {list_}\")\n",
        "#         break\n",
        "#     else:\n",
        "#         continue\n",
        "# if is_cracked == False:\n",
        "#     print(\"Password was not found in wordlists\")\n",
        "# else:\n",
        "#     pass"
      ]
    }
  ],
  "metadata": {
    "accelerator": "GPU",
    "colab": {
      "collapsed_sections": [],
      "name": "Penglab.ipynb",
      "provenance": []
    },
    "kernelspec": {
      "display_name": "Python 3",
      "name": "python3"
    },
    "language_info": {
      "codemirror_mode": {
        "name": "ipython",
        "version": 3
      },
      "file_extension": ".py",
      "mimetype": "text/x-python",
      "name": "python",
      "nbconvert_exporter": "python",
      "pygments_lexer": "ipython3",
      "version": "3.10.4"
    }
  },
  "nbformat": 4,
  "nbformat_minor": 0
}
