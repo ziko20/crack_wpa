{
  "cells": [
    {
      "cell_type": "code",
      "execution_count": 2,
      "metadata": {
        "colab": {},
        "colab_type": "code",
        "id": "nkcgYemCZA2n"
      },
      "outputs": [
        {
          "name": "stdout",
          "output_type": "stream",
          "text": [
            "Installation of hashcat...\n"
          ]
        },
        {
          "name": "stderr",
          "output_type": "stream",
          "text": [
            "'apt' is not recognized as an internal or external command,\n",
            "operable program or batch file.\n",
            "'apt' is not recognized as an internal or external command,\n",
            "operable program or batch file.\n",
            "'git' is not recognized as an internal or external command,\n",
            "operable program or batch file.\n"
          ]
        }
      ],
      "source": [
        "#Install of hashcat\n",
        "print(\"Installation of hashcat...\")\n",
        "!apt install cmake build-essential -y\n",
        "!apt install checkinstall git -y\n",
        "!git clone https://github.com/hashcat/hashcat.git && cd hashcat && make -j 8 && make install"
      ]
    },
    {
      "cell_type": "code",
      "execution_count": 1,
      "metadata": {
        "colab": {},
        "colab_type": "code",
        "id": "bG3hglwpZCB_"
      },
      "outputs": [
        {
          "name": "stdout",
          "output_type": "stream",
          "text": [
            "Installation of default wordlist...\n"
          ]
        },
        {
          "name": "stderr",
          "output_type": "stream",
          "text": [
            "'printf' is not recognized as an internal or external command,\n",
            "operable program or batch file.\n",
            "'wget' is not recognized as an internal or external command,\n",
            "operable program or batch file.\n",
            "'printf' is not recognized as an internal or external command,\n",
            "operable program or batch file.\n",
            "'gunzip' is not recognized as an internal or external command,\n",
            "operable program or batch file.\n",
            "'printf' is not recognized as an internal or external command,\n",
            "operable program or batch file.\n"
          ]
        }
      ],
      "source": [
        "#Wordlists\n",
        "print(\"Installation of default wordlist...\")\n",
        "!mkdir wordlists\n",
        "!printf \"[+] Downloading the Rockyou wordlist...\\n\"\n",
        "!cd wordlists && wget https://download.weakpass.com/wordlists/90/rockyou.txt.gz\n",
        "!printf \"[+] Wordlist downloaded !\\n[+] Extraction...\\n\"\n",
        "!cd wordlists && gunzip rockyou.txt.gz\n",
        "!printf \"[+] Finished !\\n[+] Location : $(pwd)/$wordlists_dir/$(ls wordlists | grep rockyou)\"\n"
      ]
    },
    {
      "cell_type": "code",
      "execution_count": null,
      "metadata": {},
      "outputs": [],
      "source": [
        "import os\n",
        "\n",
        "hash = input('enter your hash')\n",
        "!cd wordlists\n",
        "list__e = os.listdir()\n",
        "for i in range(len(list__e)):\n",
        "    list_ = list__e[i]\n",
        "    print(f'test list ===>> {list_}')\n",
        "    # Put your code here : exemple ====>> [!./hashcat -m 22000 -a 0 \"hash\" ../wordlists/name.txt]\n",
        "    template_cmd = \"cd && cd hashcat && !./hashcat -m 22000 -a 0 \"+str(hash)+\" ../wordlists/\"+list_\n",
        "    os.system(\"bash -c '{}'\".format(template_cmd))\n",
        "      "
      ]
    },
    {
      "cell_type": "code",
      "execution_count": 3,
      "metadata": {
        "colab": {},
        "colab_type": "code",
        "id": "erA610RJM1GK"
      },
      "outputs": [
        {
          "ename": "ModuleNotFoundError",
          "evalue": "No module named 'termcolor'",
          "output_type": "error",
          "traceback": [
            "\u001b[1;31m---------------------------------------------------------------------------\u001b[0m",
            "\u001b[1;31mModuleNotFoundError\u001b[0m                       Traceback (most recent call last)",
            "\u001b[1;32mc:\\Users\\Administrator\\Desktop\\penglab-master\\penglab.ipynb Cell 3'\u001b[0m in \u001b[0;36m<cell line: 2>\u001b[1;34m()\u001b[0m\n\u001b[0;32m      <a href='vscode-notebook-cell:/c%3A/Users/Administrator/Desktop/penglab-master/penglab.ipynb#ch0000005?line=0'>1</a>\u001b[0m \u001b[39m#Setting up shells\u001b[39;00m\n\u001b[1;32m----> <a href='vscode-notebook-cell:/c%3A/Users/Administrator/Desktop/penglab-master/penglab.ipynb#ch0000005?line=1'>2</a>\u001b[0m \u001b[39mfrom\u001b[39;00m \u001b[39mtermcolor\u001b[39;00m \u001b[39mimport\u001b[39;00m colored\n\u001b[0;32m      <a href='vscode-notebook-cell:/c%3A/Users/Administrator/Desktop/penglab-master/penglab.ipynb#ch0000005?line=2'>3</a>\u001b[0m \u001b[39mimport\u001b[39;00m \u001b[39mos\u001b[39;00m\n\u001b[0;32m      <a href='vscode-notebook-cell:/c%3A/Users/Administrator/Desktop/penglab-master/penglab.ipynb#ch0000005?line=4'>5</a>\u001b[0m os\u001b[39m.\u001b[39msystem(\u001b[39m\"\u001b[39m\u001b[39mtouch /tmp/cmd && touch /tmp/status\u001b[39m\u001b[39m\"\u001b[39m)\n",
            "\u001b[1;31mModuleNotFoundError\u001b[0m: No module named 'termcolor'"
          ]
        }
      ],
      "source": [
        "#Setting up shells\n",
        "from termcolor import colored\n",
        "import os\n",
        "\n",
        "os.system(\"touch /tmp/cmd && touch /tmp/status\")\n",
        "\n",
        "template_cmd = \"echo -n $(whoami)[$(hostname)[$(pwd) &> /tmp/status\"\n",
        "os.system(\"bash -c '{}'\".format(template_cmd))\n",
        "output = {\"cmd\": \"\", \"status\": \"\"}\n",
        "with open('/tmp/cmd', 'r') as f:\n",
        "    output[\"cmd\"] = f.read()\n",
        "with open('/tmp/status', 'r') as f:\n",
        "    output[\"status\"] = f.read()\n",
        "prefixes = output[\"status\"].split(\"[\")\n",
        "path = prefixes[2].replace('\\n', '')\n",
        "prefix = colored(prefixes[0] + \"@\" + prefixes[1], \"red\") + \":\" + colored(path, \"cyan\") + \"$ \"\n",
        "print(\"\")\n",
        "\n",
        "while 1:\n",
        "    print(prefix, end='')\n",
        "    cmd = input()\n",
        "    template_cmd = \"cd {} && \".format(path) + \"\" + cmd + \" &> /tmp/cmd ; echo $(whoami)[$(hostname)[$(pwd) &> /tmp/status\"\n",
        "    os.system(\"bash -c '{}'\".format(template_cmd))\n",
        "    output = {\"cmd\": \"\", \"status\": \"\"}\n",
        "    with open('/tmp/cmd', 'r') as f:\n",
        "        output[\"cmd\"] = f.read()\n",
        "    with open('/tmp/status', 'r') as f:\n",
        "        output[\"status\"] = f.read()\n",
        "    prefixes = output[\"status\"].split(\"[\")\n",
        "    path = prefixes[2].replace('\\n', '')\n",
        "    prefix = colored(prefixes[0] + \"@\" + prefixes[1], \"red\") + \":\" + colored(path, \"cyan\") + \"$ \"\n",
        "    print(output[\"cmd\"])\n"
      ]
    }
  ],
  "metadata": {
    "accelerator": "GPU",
    "colab": {
      "collapsed_sections": [],
      "name": "Penglab.ipynb",
      "provenance": []
    },
    "kernelspec": {
      "display_name": "Python 3",
      "name": "python3"
    },
    "language_info": {
      "codemirror_mode": {
        "name": "ipython",
        "version": 3
      },
      "file_extension": ".py",
      "mimetype": "text/x-python",
      "name": "python",
      "nbconvert_exporter": "python",
      "pygments_lexer": "ipython3",
      "version": "3.10.4"
    }
  },
  "nbformat": 4,
  "nbformat_minor": 0
}
