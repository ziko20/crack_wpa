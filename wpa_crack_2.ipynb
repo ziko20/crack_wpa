{
  "cells": [
    {
      "cell_type": "code",
      "execution_count": null,
      "metadata": {
        "colab": {},
        "colab_type": "code",
        "id": "nkcgYemCZA2n"
      },
      "outputs": [],
      "source": [
        "#Install of hashcat\n",
        "print(\"Installation of hashcat...\")\n",
        "!apt install cmake build-essential -y\n",
        "!apt install checkinstall git -y\n",
        "!git clone https://github.com/hashcat/hashcat.git && cd hashcat && make -j 8 && make install"
      ]
    },
    {
      "cell_type": "code",
      "execution_count": null,
      "metadata": {
        "colab": {},
        "colab_type": "code",
        "id": "bG3hglwpZCB_"
      },
      "outputs": [],
      "source": [
        "#Wordlists\n",
        "print(\"Installation of default wordlist...\")\n",
        "!mkdir wordlists\n",
        "!printf \"[+] Downloading the Rockyou wordlist...\\n\"\n",
        "!cd wordlists && wget https://download.weakpass.com/wordlists/90/rockyou.txt.gz\n",
        "!printf \"[+] Wordlist downloaded !\\n[+] Extraction...\\n\"\n",
        "!cd wordlists && gunzip rockyou.txt.gz\n",
        "!printf \"[+] Finished !\\n[+] Location : $(pwd)/$wordlists_dir/$(ls wordlists | grep rockyou)\"\n"
      ]
    },
    {
      "cell_type": "code",
      "execution_count": null,
      "metadata": {},
      "outputs": [],
      "source": [
        "import os\n",
        "\n",
        "hash = input('+ Enter your hash :')\n",
        "list__e = os.listdir('//content//wordlists')\n",
        "for i in range(len(list__e)):\n",
        "    list_ = list__e[i]\n",
        "    print(f'test list ===>> {list_}')\n",
        "    # Put your code here : exemple ====>> [!./hashcat -m 22000 -a 0 \"hash\" ../wordlists/name.txt]\n",
        "    template_cmd = \"cd hashcat && ./hashcat -m 22000 -a 0 \"+hash+\" ../wordlists/\"+list_+\"\"\n",
        "    os.system(\"bash -c '{}'\".format(template_cmd))\n",
        "    # !cd hashcat\n",
        "    # !./hashcat -m 22000 -a 0 $(($hash)) ../wordlists/$(($list_))"
      ]
    },
    {
      "cell_type": "code",
      "execution_count": null,
      "metadata": {
        "colab": {},
        "colab_type": "code",
        "id": "erA610RJM1GK"
      },
      "outputs": [],
      "source": [
        "#Setting up shells\n",
        "from termcolor import colored\n",
        "import os\n",
        "\n",
        "os.system(\"touch /tmp/cmd && touch /tmp/status\")\n",
        "\n",
        "template_cmd = \"echo -n $(whoami)[$(hostname)[$(pwd) &> /tmp/status\"\n",
        "os.system(\"bash -c '{}'\".format(template_cmd))\n",
        "output = {\"cmd\": \"\", \"status\": \"\"}\n",
        "with open('/tmp/cmd', 'r') as f:\n",
        "    output[\"cmd\"] = f.read()\n",
        "with open('/tmp/status', 'r') as f:\n",
        "    output[\"status\"] = f.read()\n",
        "prefixes = output[\"status\"].split(\"[\")\n",
        "path = prefixes[2].replace('\\n', '')\n",
        "prefix = colored(prefixes[0] + \"@\" + prefixes[1], \"red\") + \":\" + colored(path, \"cyan\") + \"$ \"\n",
        "print(\"\")\n",
        "\n",
        "hash = input('+ Enter your hash :')\n",
        "while 1:\n",
        "    list__e = os.listdir('//content//wordlists')\n",
        "    for i in range(len(list__e)):\n",
        "        list_ = list__e[i]\n",
        "        print(f'test list ===>> {list_}')\n",
        "        # Put your code here : exemple ====>> [!./hashcat -m 22000 -a 0 \"hash\" ../wordlists/name.txt]\n",
        "        print(prefix, end='')\n",
        "        cmd = \"cd hashcat && ./hashcat -m 22000 -a 0 \"+hash+\" ../wordlists/\"+list_+\"\"    \n",
        "        template_cmd = \"cd {} && \".format(path) + \"\" + cmd + \" &> /tmp/cmd ; echo $(whoami)[$(hostname)[$(pwd) &> /tmp/status\"\n",
        "        os.system(\"bash -c '{}'\".format(template_cmd))\n",
        "        output = {\"cmd\": \"\", \"status\": \"\"}\n",
        "        with open('/tmp/cmd', 'r') as f:\n",
        "            output[\"cmd\"] = f.read()\n",
        "        with open('/tmp/status', 'r') as f:\n",
        "            output[\"status\"] = f.read()\n",
        "        prefixes = output[\"status\"].split(\"[\")\n",
        "        path = prefixes[2].replace('\\n', '')\n",
        "        prefix = colored(prefixes[0] + \"@\" + prefixes[1], \"red\") + \":\" + colored(path, \"cyan\") + \"$ \"\n",
        "        print(output[\"cmd\"])\n"
      ]
    }
  ],
  "metadata": {
    "accelerator": "GPU",
    "colab": {
      "collapsed_sections": [],
      "name": "Penglab.ipynb",
      "provenance": []
    },
    "kernelspec": {
      "display_name": "Python 3",
      "name": "python3"
    },
    "language_info": {
      "codemirror_mode": {
        "name": "ipython",
        "version": 3
      },
      "file_extension": ".py",
      "mimetype": "text/x-python",
      "name": "python",
      "nbconvert_exporter": "python",
      "pygments_lexer": "ipython3",
      "version": "3.10.4"
    }
  },
  "nbformat": 4,
  "nbformat_minor": 0
}
